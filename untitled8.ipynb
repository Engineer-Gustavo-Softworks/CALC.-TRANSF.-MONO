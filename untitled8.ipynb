{
  "nbformat": 4,
  "nbformat_minor": 0,
  "metadata": {
    "colab": {
      "provenance": [],
      "authorship_tag": "ABX9TyP3EVv6RF5VB46/N3Dr1qf4",
      "include_colab_link": true
    },
    "kernelspec": {
      "name": "python3",
      "display_name": "Python 3"
    },
    "language_info": {
      "name": "python"
    }
  },
  "cells": [
    {
      "cell_type": "markdown",
      "metadata": {
        "id": "view-in-github",
        "colab_type": "text"
      },
      "source": [
        "<a href=\"https://colab.research.google.com/github/Engineer-Gustavo-Softworks/CALC.-TRANSF.-MONO/blob/main/untitled8.ipynb\" target=\"_parent\"><img src=\"https://colab.research.google.com/assets/colab-badge.svg\" alt=\"Open In Colab\"/></a>"
      ]
    },
    {
      "cell_type": "code",
      "execution_count": null,
      "metadata": {
        "id": "4LMdkcPaWI9X"
      },
      "outputs": [],
      "source": [
        "import math\n",
        "from math import acos, cos, sin\n"
      ]
    },
    {
      "cell_type": "code",
      "source": [
        "# DADOS DO TRANSFORMADOR\n",
        "\n",
        "S_base = 75e3  # 75 kVA\n",
        "V1 = 13800  # 13.8 kV\n",
        "V2 = 220  # 220 V\n",
        "R1 = 8.0  # Ω\n",
        "X1 = 57.6  # Ω\n",
        "R2 = 0.00725  # Ω\n",
        "X2 = 0.0517  # Ω\n",
        "Rc1 = 732e3  # Ω\n",
        "Xm1 = 342e3  # Ω"
      ],
      "metadata": {
        "id": "Ubj5cQtmWesg"
      },
      "execution_count": null,
      "outputs": []
    },
    {
      "cell_type": "code",
      "source": [
        "# MATRÍCULA (substituindo XY pelos dois últimos dígitos da matrícula)\n",
        "\n",
        "XY = 69  # Dois últimos digitos do número de matrícula\n",
        "N = (300 + XY) / 25  # Valor para N\n"
      ],
      "metadata": {
        "id": "Bzn90CXAXc73"
      },
      "execution_count": null,
      "outputs": []
    },
    {
      "cell_type": "code",
      "source": [
        "# DADOS DA CARGA\n",
        "\n",
        "S_carga = N * 1e3  # S = N kVA -> Converte para VA\n",
        "FP = 0.92  # Fator de potência\n",
        "angulo_fp = -1 * (acos(FP))  # Ângulo em radianos (atraso)"
      ],
      "metadata": {
        "id": "0EhdQQR8XoNv"
      },
      "execution_count": null,
      "outputs": []
    },
    {
      "cell_type": "code",
      "source": [
        "# RELAÇÃO DE TRANSFORMAÇÃO\n",
        "\n",
        "a = V1 / V2"
      ],
      "metadata": {
        "id": "A4q0J6TpX9IH"
      },
      "execution_count": null,
      "outputs": []
    },
    {
      "cell_type": "code",
      "source": [
        "# IMPEDÂNCIAS DO PRIMÁRIO\n",
        "\n",
        "R_eq1 = R1 + (a**2) * R2\n",
        "X_eq1 = X1 + (a**2) * X2\n",
        "Z_eq1 = complex(R_eq1, X_eq1)\n"
      ],
      "metadata": {
        "id": "ltuKuZGOX_2v"
      },
      "execution_count": null,
      "outputs": []
    },
    {
      "cell_type": "code",
      "source": [
        "# iMPEDÂNCIA DE MAGNETIZAÇÃO DO PRIMÁRIO\n",
        "\n",
        "Z_magnetizacao = complex(Rc1, -Xm1)"
      ],
      "metadata": {
        "id": "uZK4A_cxYCvO"
      },
      "execution_count": null,
      "outputs": []
    },
    {
      "cell_type": "code",
      "source": [
        "# CORRENTE DO SECUNDÁRIO\n",
        "\n",
        "I2 = S_carga / V2 * (cos(angulo_fp) - 1j * sin(angulo_fp))"
      ],
      "metadata": {
        "id": "V4LNbWcvYFem"
      },
      "execution_count": null,
      "outputs": []
    },
    {
      "cell_type": "code",
      "source": [
        "# CORRENTE DO PRIMÁRIO\n",
        "\n",
        "I1_ref = I2 / a"
      ],
      "metadata": {
        "id": "f3N47TpJYIrf"
      },
      "execution_count": null,
      "outputs": []
    },
    {
      "cell_type": "code",
      "source": [
        "# TENSÃO DO SECUNDÁRIO NO PRIMÁRIO\n",
        "\n",
        "V2_ref = V2 * a"
      ],
      "metadata": {
        "id": "E8rChRKnYMEQ"
      },
      "execution_count": null,
      "outputs": []
    },
    {
      "cell_type": "code",
      "source": [
        "# TENSÃO DE ENTRADA NO PRIMÁRIO\n",
        "\n",
        "V1_entrada = V2_ref + (I1_ref * Z_eq1)"
      ],
      "metadata": {
        "id": "TJkaSe4HYOvf"
      },
      "execution_count": null,
      "outputs": []
    },
    {
      "cell_type": "code",
      "source": [
        "# POTÊNCIAS\n",
        "\n",
        "P_saida = S_carga * FP  # Potência ativa da carga\n",
        "P_perdas_cobre = (abs(I1_ref) ** 2) * R_eq1  # Perdas no cobre\n",
        "P_perdas_ferro = V1 ** 2 / Rc1  # Perdas no ferro\n",
        "P_entrada = P_saida + P_perdas_cobre + P_perdas_ferro  # Potência de entrada\n"
      ],
      "metadata": {
        "id": "4emHvl-oYSEX"
      },
      "execution_count": null,
      "outputs": []
    },
    {
      "cell_type": "code",
      "source": [
        "# EFICIÊNCIA\n",
        "\n",
        "eficiencia = P_saida / P_entrada * 100"
      ],
      "metadata": {
        "id": "sihGv12MYU5H"
      },
      "execution_count": null,
      "outputs": []
    },
    {
      "cell_type": "code",
      "source": [
        "# REGULAÇÃO DE TENSÃO\n",
        "\n",
        "regulacao = (abs(V1_entrada) - V1) / V1 * 100"
      ],
      "metadata": {
        "id": "Kv470tXjYXyf"
      },
      "execution_count": null,
      "outputs": []
    },
    {
      "cell_type": "code",
      "source": [
        "# RESULTADOS\n",
        "\n",
        "print(f'N = {N:.3f} kVA')\n",
        "print(f\"Tensão de entrada (V1): {abs(V1_entrada):.3f} V\")\n",
        "print(f\"Corrente de entrada (I1): {abs(I1_ref):.3f} A\")\n",
        "print(f\"Potência de entrada: {P_entrada / 1e3:.3f} kW\")\n",
        "print(f\"Eficiência: {eficiencia:.3f}%\")\n",
        "print(f\"Regulação de tensão: {regulacao:.3f}%\")"
      ],
      "metadata": {
        "colab": {
          "base_uri": "https://localhost:8080/"
        },
        "id": "sH2tug-xYaVJ",
        "outputId": "f5de8fb6-7a32-4312-ed00-72c9c03cb638"
      },
      "execution_count": null,
      "outputs": [
        {
          "output_type": "stream",
          "name": "stdout",
          "text": [
            "N = 14.760 kVA\n",
            "Tensão de entrada (V1): 13729.223 V\n",
            "Corrente de entrada (I1): 1.070 A\n",
            "Potência de entrada: 13.881 kW\n",
            "Eficiência: 97.825%\n",
            "Regulação de tensão: -0.513%\n"
          ]
        }
      ]
    }
  ]
}